{
 "cells": [
  {
   "cell_type": "code",
   "execution_count": 1,
   "id": "eafc6f09",
   "metadata": {},
   "outputs": [],
   "source": [
    "import numpy as np"
   ]
  },
  {
   "cell_type": "code",
   "execution_count": 2,
   "id": "3ebc39fc",
   "metadata": {},
   "outputs": [
    {
     "data": {
      "text/plain": [
       "dict_keys(['data', 'target', 'frame', 'feature_names', 'target_names', 'images', 'DESCR'])"
      ]
     },
     "execution_count": 2,
     "metadata": {},
     "output_type": "execute_result"
    }
   ],
   "source": [
    "from sklearn.datasets import load_digits\n",
    "from sklearn.model_selection import train_test_split\n",
    "from sklearn.decomposition import PCA\n",
    "from sklearn.metrics import accuracy_score\n",
    "digits = load_digits()\n",
    "digits.keys()"
   ]
  },
  {
   "cell_type": "code",
   "execution_count": 3,
   "id": "28ac948b",
   "metadata": {},
   "outputs": [
    {
     "data": {
      "text/plain": [
       "(1797, 8, 8)"
      ]
     },
     "execution_count": 3,
     "metadata": {},
     "output_type": "execute_result"
    }
   ],
   "source": [
    "digits.images.shape"
   ]
  },
  {
   "cell_type": "code",
   "execution_count": 4,
   "id": "29709b5e",
   "metadata": {},
   "outputs": [],
   "source": [
    "with open('mnist-y.data') as file:\n",
    "    chars = [line[0] for line in file]"
   ]
  },
  {
   "cell_type": "code",
   "execution_count": 5,
   "id": "c0eef959",
   "metadata": {},
   "outputs": [],
   "source": [
    "vectors = []\n",
    "with open('mnist-x.data') as file:\n",
    "    for line in file:\n",
    "        vectors.append([1.0 if float(v) == 1 else -1.0 for v in line.strip().split(',')])"
   ]
  },
  {
   "cell_type": "code",
   "execution_count": 6,
   "id": "ceacbd18",
   "metadata": {},
   "outputs": [
    {
     "data": {
      "text/plain": [
       "<Figure size 640x480 with 0 Axes>"
      ]
     },
     "metadata": {},
     "output_type": "display_data"
    },
    {
     "data": {
      "image/png": "[encoded data removed]",
      "text/plain": [
       "<Figure size 480x480 with 1 Axes>"
      ]
     },
     "metadata": {},
     "output_type": "display_data"
    }
   ],
   "source": [
    "import matplotlib.pyplot as plt\n",
    "plt.gray()\n",
    "plt.matshow(digits.images[1001])\n",
    "plt.show()"
   ]
  },
  {
   "cell_type": "markdown",
   "id": "89608ad5",
   "metadata": {},
   "source": [
    "# KNN"
   ]
  },
  {
   "cell_type": "code",
   "execution_count": 7,
   "id": "cc8a3f45",
   "metadata": {},
   "outputs": [],
   "source": [
    "digits['data'] = np.where(digits['data']>0,1,-1)"
   ]
  },
  {
   "cell_type": "code",
   "execution_count": 8,
   "id": "89fa14cf",
   "metadata": {},
   "outputs": [
    {
     "data": {
      "text/plain": [
       "(6000, 784)"
      ]
     },
     "execution_count": 8,
     "metadata": {},
     "output_type": "execute_result"
    }
   ],
   "source": [
    "vectors = np.array(vectors)\n",
    "vectors.shape"
   ]
  },
  {
   "cell_type": "code",
   "execution_count": 9,
   "id": "08aa0774",
   "metadata": {},
   "outputs": [],
   "source": [
    "X_train, X_test, y_train, y_test = train_test_split(vectors,chars,test_size=0.20, random_state=42)"
   ]
  },
  {
   "cell_type": "code",
   "execution_count": 10,
   "id": "16980ef9",
   "metadata": {},
   "outputs": [
    {
     "data": {
      "text/plain": [
       "(4800, 784)"
      ]
     },
     "execution_count": 10,
     "metadata": {},
     "output_type": "execute_result"
    }
   ],
   "source": [
    "X_train.shape"
   ]
  },
  {
   "cell_type": "code",
   "execution_count": 11,
   "id": "d2f91b76",
   "metadata": {},
   "outputs": [
    {
     "data": {
      "text/plain": [
       "(1200, 784)"
      ]
     },
     "execution_count": 11,
     "metadata": {},
     "output_type": "execute_result"
    }
   ],
   "source": [
    "X_test.shape"
   ]
  },
  {
   "cell_type": "code",
   "execution_count": 12,
   "id": "1dbb1a67",
   "metadata": {},
   "outputs": [],
   "source": [
    "def euclidean_distance(x1, x2):\n",
    "    return np.sqrt(np.sum((x1 - x2) ** 2))\n",
    "\n"
   ]
  },
  {
   "cell_type": "code",
   "execution_count": 13,
   "id": "13fc0558",
   "metadata": {},
   "outputs": [],
   "source": [
    "def predict(test_point):\n",
    "    k=8\n",
    "    distances = [euclidean_distance(test_point, x) for x in X_train]\n",
    "    nearest_neighbors = np.argsort(distances)[:k]\n",
    "    labels = [y_train[j] for j in nearest_neighbors]\n",
    "    closest_class = max(set(labels), key=labels.count)\n",
    "    return closest_class"
   ]
  },
  {
   "cell_type": "code",
   "execution_count": 14,
   "id": "6f3ea75b",
   "metadata": {},
   "outputs": [],
   "source": [
    "def test():\n",
    "    success = 0\n",
    "    examples = X_test\n",
    "    for e in range(len(examples)):\n",
    "        z = predict(examples[e])\n",
    "        if z == y_test[e]:\n",
    "            success += 1\n",
    "    return float(success) / len(examples)"
   ]
  },
  {
   "cell_type": "code",
   "execution_count": 15,
   "id": "12ff2057",
   "metadata": {},
   "outputs": [
    {
     "data": {
      "text/plain": [
       "'2'"
      ]
     },
     "execution_count": 15,
     "metadata": {},
     "output_type": "execute_result"
    }
   ],
   "source": [
    "tPoint=X_test[1]\n",
    "predict(tPoint)"
   ]
  },
  {
   "cell_type": "code",
   "execution_count": 16,
   "id": "6340f29a",
   "metadata": {},
   "outputs": [
    {
     "data": {
      "text/plain": [
       "0.9208333333333333"
      ]
     },
     "execution_count": 16,
     "metadata": {},
     "output_type": "execute_result"
    }
   ],
   "source": [
    "test()"
   ]
  },
  {
   "cell_type": "markdown",
   "id": "49edf076",
   "metadata": {},
   "source": [
    "## Prostate"
   ]
  },
  {
   "cell_type": "code",
   "execution_count": 45,
   "id": "d93ed9e6",
   "metadata": {},
   "outputs": [],
   "source": [
    "import pandas as pd\n",
    "from sklearn.model_selection import train_test_split\n",
    "from sklearn.preprocessing import StandardScaler"
   ]
  },
  {
   "attachments": {},
   "cell_type": "markdown",
   "id": "bbcf50d0",
   "metadata": {},
   "source": [
    "KNN on Prostate data"
   ]
  },
  {
   "cell_type": "code",
   "execution_count": 59,
   "id": "9b4d993a",
   "metadata": {},
   "outputs": [],
   "source": [
    "prostate_data = pd.read_csv('prostate.csv')\n",
    "# X = prostate_data.iloc[:, :-1]\n",
    "# y = prostate_data.iloc[:, -1]\n",
    "numeric_cols = prostate_data.select_dtypes(include=['float', 'int']).columns\n",
    "X = prostate_data[numeric_cols].iloc[:, :-1]\n",
    "y = prostate_data[numeric_cols].iloc[:, -1]\n",
    "\n",
    "# split the data into training and test sets\n",
    "X_train, X_test, y_train, y_test = train_test_split(X.iloc[:, :-1], X.iloc[:, -1], test_size=0.3, random_state=42)\n",
    "\n",
    "# scale the features\n",
    "scaler = StandardScaler()\n",
    "#X_train_scaled = scaler.fit_transform(X_train)\n",
    "#X_test_scaled = scaler.transform(X_test)\n",
    "\n",
    "#X_test_scaled = pd.DataFrame(X_test_scaled, columns=X_train.columns).reindex(X_train.columns, axis=1)\n",
    "\n",
    "# define the euclidean_distance function\n",
    "def euclidean_distance(x1, x2):\n",
    "    return np.sqrt(np.sum((x1 - x2)**2))\n",
    "\n",
    "# define the predict function\n",
    "def predict(test_point):\n",
    "    k = 8\n",
    "    distances = [euclidean_distance(test_point, x) for x in X_train]\n",
    "    nearest_neighbors = np.argsort(distances)[:k]\n",
    "    labels = [y_train[j] for j in nearest_neighbors]\n",
    "    closest_class = max(set(labels), key=labels.count)\n",
    "    return closest_class"
   ]
  },
  {
   "cell_type": "code",
   "execution_count": 55,
   "id": "d65e8e1d",
   "metadata": {},
   "outputs": [
    {
     "name": "stdout",
     "output_type": "stream",
     "text": [
      "[-1.03624382  0.90184112  0.04105504  1.15529998 -0.56011203 -0.46408842\n",
      " -1.30124168]\n",
      "[-0.74211801 -1.24417801 -0.64661689 -1.09112463 -0.56011203 -0.87530334\n",
      "  4.03650479]\n",
      " \n",
      "[-0.29412581  2.14601913  0.68767193  2.24642461  0.          0.41121492\n",
      " -5.33774647]\n"
     ]
    }
   ],
   "source": [
    "print(X_train_scaled[1])\n",
    "print(X_test_scaled[1])\n",
    "print(\" \")\n",
    "print(X_train_scaled[1]-X_test_scaled[1])"
   ]
  },
  {
   "cell_type": "code",
   "execution_count": 53,
   "id": "3644a3ff",
   "metadata": {},
   "outputs": [],
   "source": [
    "def test():\n",
    "    success = 0\n",
    "    examples = test_X\n",
    "    for e in range(len(examples)):\n",
    "        z = predict(examples[e])\n",
    "        if z == test_y[e]:\n",
    "            success += 1\n",
    "    return float(success) / len(examples)"
   ]
  },
  {
   "cell_type": "code",
   "execution_count": 61,
   "id": "f739c16b",
   "metadata": {},
   "outputs": [
    {
     "ename": "UFuncTypeError",
     "evalue": "ufunc 'subtract' did not contain a loop with signature matching types (dtype('float64'), dtype('<U6')) -> None",
     "output_type": "error",
     "traceback": [
      "\u001b[1;31m---------------------------------------------------------------------------\u001b[0m",
      "\u001b[1;31mUFuncTypeError\u001b[0m                            Traceback (most recent call last)",
      "Cell \u001b[1;32mIn[61], line 2\u001b[0m\n\u001b[0;32m      1\u001b[0m test_point\u001b[39m=\u001b[39mX_test\u001b[39m.\u001b[39miloc[\u001b[39m1\u001b[39m]\n\u001b[1;32m----> 2\u001b[0m predict(test_point)\n",
      "Cell \u001b[1;32mIn[59], line 25\u001b[0m, in \u001b[0;36mpredict\u001b[1;34m(test_point)\u001b[0m\n\u001b[0;32m     23\u001b[0m \u001b[39mdef\u001b[39;00m \u001b[39mpredict\u001b[39m(test_point):\n\u001b[0;32m     24\u001b[0m     k \u001b[39m=\u001b[39m \u001b[39m8\u001b[39m\n\u001b[1;32m---> 25\u001b[0m     distances \u001b[39m=\u001b[39m [euclidean_distance(test_point, x) \u001b[39mfor\u001b[39;00m x \u001b[39min\u001b[39;00m X_train]\n\u001b[0;32m     26\u001b[0m     nearest_neighbors \u001b[39m=\u001b[39m np\u001b[39m.\u001b[39margsort(distances)[:k]\n\u001b[0;32m     27\u001b[0m     labels \u001b[39m=\u001b[39m [y_train[j] \u001b[39mfor\u001b[39;00m j \u001b[39min\u001b[39;00m nearest_neighbors]\n",
      "Cell \u001b[1;32mIn[59], line 25\u001b[0m, in \u001b[0;36m<listcomp>\u001b[1;34m(.0)\u001b[0m\n\u001b[0;32m     23\u001b[0m \u001b[39mdef\u001b[39;00m \u001b[39mpredict\u001b[39m(test_point):\n\u001b[0;32m     24\u001b[0m     k \u001b[39m=\u001b[39m \u001b[39m8\u001b[39m\n\u001b[1;32m---> 25\u001b[0m     distances \u001b[39m=\u001b[39m [euclidean_distance(test_point, x) \u001b[39mfor\u001b[39;00m x \u001b[39min\u001b[39;00m X_train]\n\u001b[0;32m     26\u001b[0m     nearest_neighbors \u001b[39m=\u001b[39m np\u001b[39m.\u001b[39margsort(distances)[:k]\n\u001b[0;32m     27\u001b[0m     labels \u001b[39m=\u001b[39m [y_train[j] \u001b[39mfor\u001b[39;00m j \u001b[39min\u001b[39;00m nearest_neighbors]\n",
      "Cell \u001b[1;32mIn[59], line 20\u001b[0m, in \u001b[0;36meuclidean_distance\u001b[1;34m(x1, x2)\u001b[0m\n\u001b[0;32m     19\u001b[0m \u001b[39mdef\u001b[39;00m \u001b[39meuclidean_distance\u001b[39m(x1, x2):\n\u001b[1;32m---> 20\u001b[0m     \u001b[39mreturn\u001b[39;00m np\u001b[39m.\u001b[39msqrt(np\u001b[39m.\u001b[39msum((x1 \u001b[39m-\u001b[39;49m x2)\u001b[39m*\u001b[39m\u001b[39m*\u001b[39m\u001b[39m2\u001b[39m))\n",
      "File \u001b[1;32mc:\\Users\\Miguel Granados C\\anaconda3\\envs\\equinox_base\\lib\\site-packages\\pandas\\core\\ops\\common.py:72\u001b[0m, in \u001b[0;36m_unpack_zerodim_and_defer.<locals>.new_method\u001b[1;34m(self, other)\u001b[0m\n\u001b[0;32m     68\u001b[0m             \u001b[39mreturn\u001b[39;00m \u001b[39mNotImplemented\u001b[39m\n\u001b[0;32m     70\u001b[0m other \u001b[39m=\u001b[39m item_from_zerodim(other)\n\u001b[1;32m---> 72\u001b[0m \u001b[39mreturn\u001b[39;00m method(\u001b[39mself\u001b[39;49m, other)\n",
      "File \u001b[1;32mc:\\Users\\Miguel Granados C\\anaconda3\\envs\\equinox_base\\lib\\site-packages\\pandas\\core\\arraylike.py:110\u001b[0m, in \u001b[0;36mOpsMixin.__sub__\u001b[1;34m(self, other)\u001b[0m\n\u001b[0;32m    108\u001b[0m \u001b[39m@unpack_zerodim_and_defer\u001b[39m(\u001b[39m\"\u001b[39m\u001b[39m__sub__\u001b[39m\u001b[39m\"\u001b[39m)\n\u001b[0;32m    109\u001b[0m \u001b[39mdef\u001b[39;00m \u001b[39m__sub__\u001b[39m(\u001b[39mself\u001b[39m, other):\n\u001b[1;32m--> 110\u001b[0m     \u001b[39mreturn\u001b[39;00m \u001b[39mself\u001b[39;49m\u001b[39m.\u001b[39;49m_arith_method(other, operator\u001b[39m.\u001b[39;49msub)\n",
      "File \u001b[1;32mc:\\Users\\Miguel Granados C\\anaconda3\\envs\\equinox_base\\lib\\site-packages\\pandas\\core\\series.py:6259\u001b[0m, in \u001b[0;36mSeries._arith_method\u001b[1;34m(self, other, op)\u001b[0m\n\u001b[0;32m   6257\u001b[0m \u001b[39mdef\u001b[39;00m \u001b[39m_arith_method\u001b[39m(\u001b[39mself\u001b[39m, other, op):\n\u001b[0;32m   6258\u001b[0m     \u001b[39mself\u001b[39m, other \u001b[39m=\u001b[39m ops\u001b[39m.\u001b[39malign_method_SERIES(\u001b[39mself\u001b[39m, other)\n\u001b[1;32m-> 6259\u001b[0m     \u001b[39mreturn\u001b[39;00m base\u001b[39m.\u001b[39;49mIndexOpsMixin\u001b[39m.\u001b[39;49m_arith_method(\u001b[39mself\u001b[39;49m, other, op)\n",
      "File \u001b[1;32mc:\\Users\\Miguel Granados C\\anaconda3\\envs\\equinox_base\\lib\\site-packages\\pandas\\core\\base.py:1325\u001b[0m, in \u001b[0;36mIndexOpsMixin._arith_method\u001b[1;34m(self, other, op)\u001b[0m\n\u001b[0;32m   1322\u001b[0m rvalues \u001b[39m=\u001b[39m ensure_wrapped_if_datetimelike(rvalues)\n\u001b[0;32m   1324\u001b[0m \u001b[39mwith\u001b[39;00m np\u001b[39m.\u001b[39merrstate(\u001b[39mall\u001b[39m\u001b[39m=\u001b[39m\u001b[39m\"\u001b[39m\u001b[39mignore\u001b[39m\u001b[39m\"\u001b[39m):\n\u001b[1;32m-> 1325\u001b[0m     result \u001b[39m=\u001b[39m ops\u001b[39m.\u001b[39;49marithmetic_op(lvalues, rvalues, op)\n\u001b[0;32m   1327\u001b[0m \u001b[39mreturn\u001b[39;00m \u001b[39mself\u001b[39m\u001b[39m.\u001b[39m_construct_result(result, name\u001b[39m=\u001b[39mres_name)\n",
      "File \u001b[1;32mc:\\Users\\Miguel Granados C\\anaconda3\\envs\\equinox_base\\lib\\site-packages\\pandas\\core\\ops\\array_ops.py:226\u001b[0m, in \u001b[0;36marithmetic_op\u001b[1;34m(left, right, op)\u001b[0m\n\u001b[0;32m    222\u001b[0m     _bool_arith_check(op, left, right)\n\u001b[0;32m    224\u001b[0m     \u001b[39m# error: Argument 1 to \"_na_arithmetic_op\" has incompatible type\u001b[39;00m\n\u001b[0;32m    225\u001b[0m     \u001b[39m# \"Union[ExtensionArray, ndarray[Any, Any]]\"; expected \"ndarray[Any, Any]\"\u001b[39;00m\n\u001b[1;32m--> 226\u001b[0m     res_values \u001b[39m=\u001b[39m _na_arithmetic_op(left, right, op)  \u001b[39m# type: ignore[arg-type]\u001b[39;00m\n\u001b[0;32m    228\u001b[0m \u001b[39mreturn\u001b[39;00m res_values\n",
      "File \u001b[1;32mc:\\Users\\Miguel Granados C\\anaconda3\\envs\\equinox_base\\lib\\site-packages\\pandas\\core\\ops\\array_ops.py:165\u001b[0m, in \u001b[0;36m_na_arithmetic_op\u001b[1;34m(left, right, op, is_cmp)\u001b[0m\n\u001b[0;32m    162\u001b[0m     func \u001b[39m=\u001b[39m partial(expressions\u001b[39m.\u001b[39mevaluate, op)\n\u001b[0;32m    164\u001b[0m \u001b[39mtry\u001b[39;00m:\n\u001b[1;32m--> 165\u001b[0m     result \u001b[39m=\u001b[39m func(left, right)\n\u001b[0;32m    166\u001b[0m \u001b[39mexcept\u001b[39;00m \u001b[39mTypeError\u001b[39;00m:\n\u001b[0;32m    167\u001b[0m     \u001b[39mif\u001b[39;00m \u001b[39mnot\u001b[39;00m is_cmp \u001b[39mand\u001b[39;00m (is_object_dtype(left\u001b[39m.\u001b[39mdtype) \u001b[39mor\u001b[39;00m is_object_dtype(right)):\n\u001b[0;32m    168\u001b[0m         \u001b[39m# For object dtype, fallback to a masked operation (only operating\u001b[39;00m\n\u001b[0;32m    169\u001b[0m         \u001b[39m#  on the non-missing values)\u001b[39;00m\n\u001b[0;32m    170\u001b[0m         \u001b[39m# Don't do this for comparisons, as that will handle complex numbers\u001b[39;00m\n\u001b[0;32m    171\u001b[0m         \u001b[39m#  incorrectly, see GH#32047\u001b[39;00m\n",
      "\u001b[1;31mUFuncTypeError\u001b[0m: ufunc 'subtract' did not contain a loop with signature matching types (dtype('float64'), dtype('<U6')) -> None"
     ]
    }
   ],
   "source": [
    "test_point=X_test.iloc[1]\n",
    "predict(test_point)"
   ]
  },
  {
   "attachments": {},
   "cell_type": "markdown",
   "id": "9a72010c",
   "metadata": {},
   "source": [
    "Accuracy, training error, test error"
   ]
  },
  {
   "cell_type": "code",
   "execution_count": null,
   "id": "64bccbc0",
   "metadata": {},
   "outputs": [],
   "source": []
  },
  {
   "cell_type": "markdown",
   "id": "bbb4e6ce",
   "metadata": {},
   "source": [
    "# Perceptron"
   ]
  },
  {
   "cell_type": "code",
   "execution_count": null,
   "id": "5276d8be",
   "metadata": {},
   "outputs": [],
   "source": [
    "data = [{'vector': v, 'char': c} for (v, c) in zip(vectors, chars)]"
   ]
  },
  {
   "cell_type": "code",
   "execution_count": null,
   "id": "a535dd95",
   "metadata": {},
   "outputs": [],
   "source": [
    "def train(target_char, opposite_char, steps):\n",
    "    train_data = data[:5000]\n",
    "    train_data = [e for e in train_data if e['char'] in (target_char, opposite_char)]\n",
    "    w = np.zeros(784)\n",
    "    i = 0\n",
    "    weights = w\n",
    "    # Implement perceptron, remember:\n",
    "    if z >= 0 and y == opposite_char:\n",
    "        #TODO\n",
    "    elif z < 0 and y == target_char:\n",
    "        #TODO\n",
    "    return w\n",
    "\n",
    "def error(target_char, opposite_char,data,w):\n",
    "    success = 0\n",
    "    for e in data:\n",
    "        z = np.dot(e['vector'], w)\n",
    "        if (z >= 0 and e['char'] == target_char) or (z < 0 and e['char'] == opposite_char):\n",
    "            success += 1\n",
    "    return float(success) / len(data)\n",
    "\n",
    "def test(target_char, opposite_char,weights):\n",
    "    success = 0\n",
    "    examples = data[5000:]\n",
    "\n",
    "    examples = [e for e in examples if e['char'] in (target_char, opposite_char)]\n",
    "\n",
    "    for e in examples:\n",
    "        z = np.dot(e['vector'], weights)\n",
    "        if (z >= 0 and e['char'] == target_char) or (z < 0 and e['char'] == opposite_char):\n",
    "            success += 1\n",
    "\n",
    "    return float(success) / len(examples)"
   ]
  },
  {
   "cell_type": "code",
   "execution_count": null,
   "id": "065433ef",
   "metadata": {},
   "outputs": [],
   "source": [
    "weights = train('1','2',100)"
   ]
  },
  {
   "cell_type": "code",
   "execution_count": null,
   "id": "a61e8dfa",
   "metadata": {},
   "outputs": [],
   "source": [
    "test('1','2',weights)"
   ]
  },
  {
   "cell_type": "code",
   "execution_count": null,
   "id": "13b67877",
   "metadata": {},
   "outputs": [],
   "source": []
  }
 ],
 "metadata": {
  "kernelspec": {
   "display_name": "equinox_base",
   "language": "python",
   "name": "python3"
  },
  "language_info": {
   "codemirror_mode": {
    "name": "ipython",
    "version": 3
   },
   "file_extension": ".py",
   "mimetype": "text/x-python",
   "name": "python",
   "nbconvert_exporter": "python",
   "pygments_lexer": "ipython3",
   "version": "3.10.9"
  },
  "vscode": {
   "interpreter": {
    "hash": "fe5896d181b91c1f459a85a02011a97f6d57380e870963da673668df1c12e6ea"
   }
  }
 },
 "nbformat": 4,
 "nbformat_minor": 5
}
